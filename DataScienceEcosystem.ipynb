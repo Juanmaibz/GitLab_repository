{
 "cells": [
  {
   "cell_type": "markdown",
   "metadata": {},
   "source": [
    "<center>\n",
    "    <img src=\"https://cf-courses-data.s3.us.cloud-object-storage.appdomain.cloud/IBMDeveloperSkillsNetwork-DS0105EN-SkillsNetwork/labs/Module2/images/SN_web_lightmode.png\" width=\"300\" alt=\"cognitiveclass.ai logo\">\n",
    "</center>\n"
   ]
  },
  {
   "cell_type": "markdown",
   "metadata": {},
   "source": [
    "# Data Science Tools and Ecosystem"
   ]
  },
  {
   "cell_type": "markdown",
   "metadata": {},
   "source": [
    "The intention in this notebook is to give a summary of what was seen in the previous modules on data science and its ecosystem."
   ]
  },
  {
   "cell_type": "markdown",
   "metadata": {},
   "source": [
    "**Goals:** Popular Languages for Data Science\n",
    "* *Java*: It is a tried and true general purpose goal oriented programming language adopted in the enterprise space. \n",
    "    * **Apache Hadoop** manages data processing and storage for big data applications running on clustered systems.\n",
    "    * **Apache MLLib**, which makes machine learning scalable.\n",
    "    * **Java-ML**, which is a machine learning library.\n",
    "* *R-Studio*: It is most often used by statisticians, mathematicians, and data miners to develop statistical software, graphs, and data analysis.\n",
    "    * It is further into the value set.\n",
    "    * Both open source software and free software commonly refer to the same set of licenses.\n",
    "    * R has become the world's largest repository of statistical knowledge.\n",
    "* *SQL*: It is not considered like the other languages because it is a non-procedural language and its scope is limited to querying and managing data. \n",
    "    * This language is useful in handling structured data, that is, data that incorporates relationships between entities and variables.\n",
    "    * SQL was designed to manage data in relational databases.\n",
    "    * First appeared in 1974. And SQL was developed at IBM.\n",
    "* *SCALA*: It is a general purpose programming language that provides support for functional programming and a strong static type system.\n",
    "    * Spark is a fast, general-purpose cluster computing system.\n",
    "    * **MLLib**, for machine learning.\n",
    "    * **GraphX**, for graphics processing.\n",
    "* *C++*: It is the general purpose programming language. It improves processing speed, enables system programming, and provides broader control over application or software.\n",
    "    * A popular deep learning library for data flow called *TensorFlow* was built using C++.\n",
    "    * **MongoDB**, a NoSQL database for managing big data, was built using C++.\n",
    "    * **Caffe** is a repository of deep learning algorithms built with C++, with Python and MATLAB bindings."
   ]
  },
  {
   "cell_type": "markdown",
   "metadata": {},
   "source": [
    "*Some of the popular languages that data scientists use are:*\n",
    "1. Python\n",
    "2. R-Studio\n",
    "3. SQL\n",
    "4. SCALA\n",
    "5. Java"
   ]
  },
  {
   "cell_type": "markdown",
   "metadata": {},
   "source": [
    "*Some of the commonly used libraries used by data scientists include:*\n",
    "1. Pandas\n",
    "2. NumPy\n",
    "3. Matplotlib\n",
    "4. Seaborn\n",
    "5. TensorFlow"
   ]
  },
  {
   "cell_type": "markdown",
   "metadata": {},
   "source": [
    "| Data Science Tools |\n",
    "| --- |\n",
    "| MySQL |\n",
    "| MondongoDB |\n",
    "| Apache Cassandra |\n",
    "| Hadoop File System |\n",
    "| Elasticsearch |"
   ]
  },
  {
   "cell_type": "markdown",
   "metadata": {},
   "source": [
    "### Below are some examples of evaluating arithmetic expressions in Python"
   ]
  },
  {
   "cell_type": "markdown",
   "metadata": {},
   "source": [
    "This is a simple arithmetic expression to add integers multiple times."
   ]
  },
  {
   "cell_type": "code",
   "execution_count": 1,
   "metadata": {},
   "outputs": [
    {
     "data": {
      "text/plain": [
       "17"
      ]
     },
     "execution_count": 1,
     "metadata": {},
     "output_type": "execute_result"
    }
   ],
   "source": [
    "(3*4)+5"
   ]
  },
  {
   "cell_type": "markdown",
   "metadata": {},
   "source": [
    "This will convert 200 minutes into hours by diving for 60"
   ]
  },
  {
   "cell_type": "code",
   "execution_count": 2,
   "metadata": {},
   "outputs": [
    {
     "data": {
      "text/plain": [
       "3.3333333333333335"
      ]
     },
     "execution_count": 2,
     "metadata": {},
     "output_type": "execute_result"
    }
   ],
   "source": [
    "200/60"
   ]
  },
  {
   "cell_type": "markdown",
   "metadata": {},
   "source": [
    "## Author\n",
    "Juan Manuel Ibáñez Cortés"
   ]
  }
 ],
 "metadata": {
  "kernelspec": {
   "display_name": "Python",
   "language": "python",
   "name": "conda-env-python-py"
  },
  "language_info": {
   "codemirror_mode": {
    "name": "ipython",
    "version": 3
   },
   "file_extension": ".py",
   "mimetype": "text/x-python",
   "name": "python",
   "nbconvert_exporter": "python",
   "pygments_lexer": "ipython3",
   "version": "3.7.12"
  }
 },
 "nbformat": 4,
 "nbformat_minor": 4
}
