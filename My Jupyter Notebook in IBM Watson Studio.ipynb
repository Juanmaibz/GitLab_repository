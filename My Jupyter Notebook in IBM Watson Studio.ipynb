{
    "cells": [
        {
            "metadata": {
                "collapsed": true
            },
            "cell_type": "markdown",
            "source": "# My Jupyter Notebook on IBM Watson Studio"
        },
        {
            "metadata": {},
            "cell_type": "markdown",
            "source": "**Juan Manuel Iba\u00f1ez Cortes**\n\nRecent graduate of Administration and Finance"
        },
        {
            "metadata": {},
            "cell_type": "markdown",
            "source": "*I am interested in data science because it seems to me a very attractive job and I think it will have a great impact in the future in any company, and I would like to be specialized to be able to excel in my career as well as in any other using this tool. In the same way, I like to be updated with technology every day because I believe that it is the future for any company and it is something that can give you many tools to excel and be able to get a very good job.*"
        },
        {
            "metadata": {},
            "cell_type": "markdown",
            "source": "### The following code performs a multiplication of variables."
        },
        {
            "metadata": {},
            "cell_type": "code",
            "source": "x = 22\ny = 23\nx * y",
            "execution_count": 5,
            "outputs": [
                {
                    "output_type": "execute_result",
                    "execution_count": 5,
                    "data": {
                        "text/plain": "506"
                    },
                    "metadata": {}
                }
            ]
        },
        {
            "metadata": {},
            "cell_type": "markdown",
            "source": "### [I'm an inline-style link](https://www.hospitalveterinariglories.com/wp-content/uploads/2022/10/12-10-22-Diferencias-entre-un-westie-y-un-malte%CC%81s.jpg)\n>this is the hyperlink to an image\n\n---\n\n|  | Team A | Team B |\n| --- | --- | --- |\n| Player 1 | Juan | Carlos |\n| Player 2 | Angie | Zara |\n| Player 3 | Cesar | Emilio |\n>this is the table of participants\n\n---\n\n### Market List\n1. apple \n2. orange\n3. banana\n4. grape\n5. strawberry\n\n>this is a shopping list\n---"
        }
    ],
    "metadata": {
        "kernelspec": {
            "name": "python3",
            "display_name": "Python 3.10",
            "language": "python"
        },
        "language_info": {
            "name": "python",
            "version": "3.10.6",
            "mimetype": "text/x-python",
            "codemirror_mode": {
                "name": "ipython",
                "version": 3
            },
            "pygments_lexer": "ipython3",
            "nbconvert_exporter": "python",
            "file_extension": ".py"
        }
    },
    "nbformat": 4,
    "nbformat_minor": 1
}